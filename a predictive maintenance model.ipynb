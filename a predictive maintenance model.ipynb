{
 "cells": [
  {
   "cell_type": "code",
   "execution_count": 1,
   "metadata": {},
   "outputs": [],
   "source": [
    "import pandas as pd\n",
    "import numpy as np\n",
    "import matplotlib.pyplot as plt\n",
    "%matplotlib inline\n",
    "import seaborn as sns\n",
    "import warnings\n",
    "warnings.filterwarnings(\"ignore\")"
   ]
  },
  {
   "cell_type": "code",
   "execution_count": 2,
   "metadata": {},
   "outputs": [],
   "source": [
    "df=pd.read_csv(\"failure.csv\")"
   ]
  },
  {
   "cell_type": "code",
   "execution_count": 3,
   "metadata": {},
   "outputs": [
    {
     "data": {
      "text/html": [
       "<div>\n",
       "<style scoped>\n",
       "    .dataframe tbody tr th:only-of-type {\n",
       "        vertical-align: middle;\n",
       "    }\n",
       "\n",
       "    .dataframe tbody tr th {\n",
       "        vertical-align: top;\n",
       "    }\n",
       "\n",
       "    .dataframe thead th {\n",
       "        text-align: right;\n",
       "    }\n",
       "</style>\n",
       "<table border=\"1\" class=\"dataframe\">\n",
       "  <thead>\n",
       "    <tr style=\"text-align: right;\">\n",
       "      <th></th>\n",
       "      <th>date</th>\n",
       "      <th>device</th>\n",
       "      <th>failure</th>\n",
       "      <th>attribute1</th>\n",
       "      <th>attribute2</th>\n",
       "      <th>attribute3</th>\n",
       "      <th>attribute4</th>\n",
       "      <th>attribute5</th>\n",
       "      <th>attribute6</th>\n",
       "      <th>attribute7</th>\n",
       "      <th>attribute8</th>\n",
       "      <th>attribute9</th>\n",
       "    </tr>\n",
       "  </thead>\n",
       "  <tbody>\n",
       "    <tr>\n",
       "      <th>0</th>\n",
       "      <td>2015-01-01</td>\n",
       "      <td>S1F01085</td>\n",
       "      <td>0</td>\n",
       "      <td>215630672</td>\n",
       "      <td>56</td>\n",
       "      <td>0</td>\n",
       "      <td>52</td>\n",
       "      <td>6</td>\n",
       "      <td>407438</td>\n",
       "      <td>0</td>\n",
       "      <td>0</td>\n",
       "      <td>7</td>\n",
       "    </tr>\n",
       "    <tr>\n",
       "      <th>1</th>\n",
       "      <td>2015-01-01</td>\n",
       "      <td>S1F0166B</td>\n",
       "      <td>0</td>\n",
       "      <td>61370680</td>\n",
       "      <td>0</td>\n",
       "      <td>3</td>\n",
       "      <td>0</td>\n",
       "      <td>6</td>\n",
       "      <td>403174</td>\n",
       "      <td>0</td>\n",
       "      <td>0</td>\n",
       "      <td>0</td>\n",
       "    </tr>\n",
       "    <tr>\n",
       "      <th>2</th>\n",
       "      <td>2015-01-01</td>\n",
       "      <td>S1F01E6Y</td>\n",
       "      <td>0</td>\n",
       "      <td>173295968</td>\n",
       "      <td>0</td>\n",
       "      <td>0</td>\n",
       "      <td>0</td>\n",
       "      <td>12</td>\n",
       "      <td>237394</td>\n",
       "      <td>0</td>\n",
       "      <td>0</td>\n",
       "      <td>0</td>\n",
       "    </tr>\n",
       "    <tr>\n",
       "      <th>3</th>\n",
       "      <td>2015-01-01</td>\n",
       "      <td>S1F01JE0</td>\n",
       "      <td>0</td>\n",
       "      <td>79694024</td>\n",
       "      <td>0</td>\n",
       "      <td>0</td>\n",
       "      <td>0</td>\n",
       "      <td>6</td>\n",
       "      <td>410186</td>\n",
       "      <td>0</td>\n",
       "      <td>0</td>\n",
       "      <td>0</td>\n",
       "    </tr>\n",
       "    <tr>\n",
       "      <th>4</th>\n",
       "      <td>2015-01-01</td>\n",
       "      <td>S1F01R2B</td>\n",
       "      <td>0</td>\n",
       "      <td>135970480</td>\n",
       "      <td>0</td>\n",
       "      <td>0</td>\n",
       "      <td>0</td>\n",
       "      <td>15</td>\n",
       "      <td>313173</td>\n",
       "      <td>0</td>\n",
       "      <td>0</td>\n",
       "      <td>3</td>\n",
       "    </tr>\n",
       "    <tr>\n",
       "      <th>...</th>\n",
       "      <td>...</td>\n",
       "      <td>...</td>\n",
       "      <td>...</td>\n",
       "      <td>...</td>\n",
       "      <td>...</td>\n",
       "      <td>...</td>\n",
       "      <td>...</td>\n",
       "      <td>...</td>\n",
       "      <td>...</td>\n",
       "      <td>...</td>\n",
       "      <td>...</td>\n",
       "      <td>...</td>\n",
       "    </tr>\n",
       "    <tr>\n",
       "      <th>124489</th>\n",
       "      <td>2015-11-02</td>\n",
       "      <td>Z1F0MA1S</td>\n",
       "      <td>0</td>\n",
       "      <td>18310224</td>\n",
       "      <td>0</td>\n",
       "      <td>0</td>\n",
       "      <td>0</td>\n",
       "      <td>10</td>\n",
       "      <td>353705</td>\n",
       "      <td>8</td>\n",
       "      <td>8</td>\n",
       "      <td>0</td>\n",
       "    </tr>\n",
       "    <tr>\n",
       "      <th>124490</th>\n",
       "      <td>2015-11-02</td>\n",
       "      <td>Z1F0Q8RT</td>\n",
       "      <td>0</td>\n",
       "      <td>172556680</td>\n",
       "      <td>96</td>\n",
       "      <td>107</td>\n",
       "      <td>4</td>\n",
       "      <td>11</td>\n",
       "      <td>332792</td>\n",
       "      <td>0</td>\n",
       "      <td>0</td>\n",
       "      <td>13</td>\n",
       "    </tr>\n",
       "    <tr>\n",
       "      <th>124491</th>\n",
       "      <td>2015-11-02</td>\n",
       "      <td>Z1F0QK05</td>\n",
       "      <td>0</td>\n",
       "      <td>19029120</td>\n",
       "      <td>4832</td>\n",
       "      <td>0</td>\n",
       "      <td>0</td>\n",
       "      <td>11</td>\n",
       "      <td>350410</td>\n",
       "      <td>0</td>\n",
       "      <td>0</td>\n",
       "      <td>0</td>\n",
       "    </tr>\n",
       "    <tr>\n",
       "      <th>124492</th>\n",
       "      <td>2015-11-02</td>\n",
       "      <td>Z1F0QL3N</td>\n",
       "      <td>0</td>\n",
       "      <td>226953408</td>\n",
       "      <td>0</td>\n",
       "      <td>0</td>\n",
       "      <td>0</td>\n",
       "      <td>12</td>\n",
       "      <td>358980</td>\n",
       "      <td>0</td>\n",
       "      <td>0</td>\n",
       "      <td>0</td>\n",
       "    </tr>\n",
       "    <tr>\n",
       "      <th>124493</th>\n",
       "      <td>2015-11-02</td>\n",
       "      <td>Z1F0QLC1</td>\n",
       "      <td>0</td>\n",
       "      <td>17572840</td>\n",
       "      <td>0</td>\n",
       "      <td>0</td>\n",
       "      <td>0</td>\n",
       "      <td>10</td>\n",
       "      <td>351431</td>\n",
       "      <td>0</td>\n",
       "      <td>0</td>\n",
       "      <td>0</td>\n",
       "    </tr>\n",
       "  </tbody>\n",
       "</table>\n",
       "<p>124494 rows × 12 columns</p>\n",
       "</div>"
      ],
      "text/plain": [
       "              date    device  failure  attribute1  attribute2  attribute3  \\\n",
       "0       2015-01-01  S1F01085        0   215630672          56           0   \n",
       "1       2015-01-01  S1F0166B        0    61370680           0           3   \n",
       "2       2015-01-01  S1F01E6Y        0   173295968           0           0   \n",
       "3       2015-01-01  S1F01JE0        0    79694024           0           0   \n",
       "4       2015-01-01  S1F01R2B        0   135970480           0           0   \n",
       "...            ...       ...      ...         ...         ...         ...   \n",
       "124489  2015-11-02  Z1F0MA1S        0    18310224           0           0   \n",
       "124490  2015-11-02  Z1F0Q8RT        0   172556680          96         107   \n",
       "124491  2015-11-02  Z1F0QK05        0    19029120        4832           0   \n",
       "124492  2015-11-02  Z1F0QL3N        0   226953408           0           0   \n",
       "124493  2015-11-02  Z1F0QLC1        0    17572840           0           0   \n",
       "\n",
       "        attribute4  attribute5  attribute6  attribute7  attribute8  attribute9  \n",
       "0               52           6      407438           0           0           7  \n",
       "1                0           6      403174           0           0           0  \n",
       "2                0          12      237394           0           0           0  \n",
       "3                0           6      410186           0           0           0  \n",
       "4                0          15      313173           0           0           3  \n",
       "...            ...         ...         ...         ...         ...         ...  \n",
       "124489           0          10      353705           8           8           0  \n",
       "124490           4          11      332792           0           0          13  \n",
       "124491           0          11      350410           0           0           0  \n",
       "124492           0          12      358980           0           0           0  \n",
       "124493           0          10      351431           0           0           0  \n",
       "\n",
       "[124494 rows x 12 columns]"
      ]
     },
     "execution_count": 3,
     "metadata": {},
     "output_type": "execute_result"
    }
   ],
   "source": [
    "df #failure -> 1 hatalı. "
   ]
  },
  {
   "cell_type": "code",
   "execution_count": 4,
   "metadata": {},
   "outputs": [
    {
     "data": {
      "text/plain": [
       "date          0\n",
       "device        0\n",
       "failure       0\n",
       "attribute1    0\n",
       "attribute2    0\n",
       "attribute3    0\n",
       "attribute4    0\n",
       "attribute5    0\n",
       "attribute6    0\n",
       "attribute7    0\n",
       "attribute8    0\n",
       "attribute9    0\n",
       "dtype: int64"
      ]
     },
     "execution_count": 4,
     "metadata": {},
     "output_type": "execute_result"
    }
   ],
   "source": [
    "df.isnull().sum()"
   ]
  },
  {
   "cell_type": "code",
   "execution_count": 5,
   "metadata": {},
   "outputs": [
    {
     "data": {
      "text/plain": [
       "0    124388\n",
       "1       106\n",
       "Name: failure, dtype: int64"
      ]
     },
     "execution_count": 5,
     "metadata": {},
     "output_type": "execute_result"
    }
   ],
   "source": [
    "df.failure.value_counts() "
   ]
  },
  {
   "cell_type": "code",
   "execution_count": 6,
   "metadata": {},
   "outputs": [
    {
     "data": {
      "text/plain": [
       "<AxesSubplot:xlabel='failure', ylabel='count'>"
      ]
     },
     "execution_count": 6,
     "metadata": {},
     "output_type": "execute_result"
    },
    {
     "data": {
      "image/png": "[encoded data removed]",
      "text/plain": [
       "<Figure size 432x288 with 1 Axes>"
      ]
     },
     "metadata": {
      "needs_background": "light"
     },
     "output_type": "display_data"
    }
   ],
   "source": [
    "sns.countplot(data=df, x=\"failure\") #Imbalanced data."
   ]
  },
  {
   "cell_type": "code",
   "execution_count": 7,
   "metadata": {},
   "outputs": [
    {
     "data": {
      "text/plain": [
       "<seaborn.axisgrid.FacetGrid at 0x1ee3f9a0f40>"
      ]
     },
     "execution_count": 7,
     "metadata": {},
     "output_type": "execute_result"
    },
    {
     "data": {
      "image/png": "[encoded data removed]",
      "text/plain": [
       "<Figure size 762.375x360 with 1 Axes>"
      ]
     },
     "metadata": {
      "needs_background": "light"
     },
     "output_type": "display_data"
    }
   ],
   "source": [
    "sns.displot(data=df, kind='hist', x ='attribute6', hue ='failure', multiple='stack',bins=25,aspect=2) \n",
    "#Veri oldukça dengesiz. Oversampling veya undersampling ile failure değerlerini yaklaştırıp incelemeliyiz."
   ]
  },
  {
   "cell_type": "code",
   "execution_count": 8,
   "metadata": {},
   "outputs": [
    {
     "data": {
      "text/plain": [
       "failure       1.000000\n",
       "attribute8    0.119055\n",
       "attribute7    0.119055\n",
       "attribute4    0.067398\n",
       "attribute2    0.052902\n",
       "attribute5    0.002270\n",
       "attribute1    0.001984\n",
       "attribute9    0.001622\n",
       "attribute6   -0.000550\n",
       "attribute3   -0.000948\n",
       "Name: failure, dtype: float64"
      ]
     },
     "execution_count": 8,
     "metadata": {},
     "output_type": "execute_result"
    }
   ],
   "source": [
    "df.corr()['failure'].sort_values(ascending=False)"
   ]
  },
  {
   "cell_type": "code",
   "execution_count": 9,
   "metadata": {},
   "outputs": [
    {
     "data": {
      "text/plain": [
       "<seaborn.axisgrid.PairGrid at 0x1ee404ffa60>"
      ]
     },
     "execution_count": 9,
     "metadata": {},
     "output_type": "execute_result"
    },
    {
     "data": {
      "image/png": "[encoded data removed]",
      "text/plain": [
       "<Figure size 402.375x1260 with 14 Axes>"
      ]
     },
     "metadata": {
      "needs_background": "light"
     },
     "output_type": "display_data"
    }
   ],
   "source": [
    "sns.pairplot(data=df,x_vars=[\"attribute1\", \"attribute6\"],y_vars=[\"attribute2\", \"attribute3\", \"attribute4\",\n",
    "                                   \"attribute5\",\"attribute7\", \"attribute8\", \"attribute9\"],hue=\"failure\", aspect=1)\n",
    "#attribute 7,8 ve 4,2 dikkatimi çekiyor. "
   ]
  },
  {
   "cell_type": "code",
   "execution_count": 10,
   "metadata": {},
   "outputs": [
    {
     "data": {
      "image/png": "[encoded data removed]",
      "text/plain": [
       "<Figure size 432x288 with 1 Axes>"
      ]
     },
     "metadata": {
      "needs_background": "light"
     },
     "output_type": "display_data"
    }
   ],
   "source": [
    "sns.boxplot(\"attribute8\",\"failure\",data=df)\n",
    "plt.xticks(rotation=90); #üstteki grafikte attribute 7, 8 dikkatimi çekiyor.  "
   ]
  },
  {
   "cell_type": "code",
   "execution_count": 11,
   "metadata": {},
   "outputs": [
    {
     "data": {
      "image/png": "[encoded data removed]",
      "text/plain": [
       "<Figure size 432x288 with 1 Axes>"
      ]
     },
     "metadata": {
      "needs_background": "light"
     },
     "output_type": "display_data"
    }
   ],
   "source": [
    "sns.boxplot(\"attribute7\",\"failure\",data=df)\n",
    "plt.xticks(rotation=90); #attribute 8 ile neredeyse aynı özellikteler. "
   ]
  },
  {
   "cell_type": "code",
   "execution_count": 7,
   "metadata": {},
   "outputs": [],
   "source": [
    "df=df.drop('attribute8',axis=1) #aynı olduklarından birini siliyorum. "
   ]
  },
  {
   "cell_type": "code",
   "execution_count": 13,
   "metadata": {},
   "outputs": [],
   "source": [
    "#sns.pairplot(data=df,x_vars=[\"date\", \"device\"],y_vars=[\"attribute1\", \"attribute6\"],hue=\"failure\", aspect=1)"
   ]
  },
  {
   "cell_type": "code",
   "execution_count": 14,
   "metadata": {},
   "outputs": [
    {
     "name": "stdout",
     "output_type": "stream",
     "text": [
      "(124494, 11)\n"
     ]
    }
   ],
   "source": [
    "print(df.shape)\n",
    "\n",
    "a=['date','device']  \n",
    "b=df.drop(a, axis = 1)\n",
    "#b=[\"attribute1\",\"attribute2\",\"attribute3\",\"attribute4\",\"attribute5\",\"attribute6\",\"attribute7\",\"attribute8\",\"attribute9\"]\n"
   ]
  },
  {
   "cell_type": "code",
   "execution_count": 15,
   "metadata": {},
   "outputs": [
    {
     "name": "stdout",
     "output_type": "stream",
     "text": [
      "(124494, 9)\n"
     ]
    }
   ],
   "source": [
    "print(b.shape)\n",
    "\n",
    "# set up features and target\n",
    "y=b['failure']\n",
    "X=b.drop(['failure'], axis = 1)"
   ]
  },
  {
   "cell_type": "code",
   "execution_count": 16,
   "metadata": {},
   "outputs": [],
   "source": [
    "from sklearn import ensemble\n",
    "rf = ensemble.RandomForestRegressor()\n",
    "single_rf = ensemble.RandomForestRegressor(n_estimators = 200, max_depth = 15)\n",
    "single_rf.fit(X, y)\n",
    "y_pred = single_rf.predict(X)"
   ]
  },
  {
   "cell_type": "code",
   "execution_count": 17,
   "metadata": {},
   "outputs": [
    {
     "data": {
      "image/png": "[encoded data removed]",
      "text/plain": [
       "<Figure size 792x648 with 1 Axes>"
      ]
     },
     "metadata": {
      "needs_background": "light"
     },
     "output_type": "display_data"
    },
    {
     "name": "stdout",
     "output_type": "stream",
     "text": [
      "attribute1    0.365387\n",
      "attribute6    0.254636\n",
      "attribute2    0.098904\n",
      "attribute4    0.092688\n",
      "attribute5    0.083834\n",
      "attribute7    0.061784\n",
      "attribute9    0.031751\n",
      "attribute3    0.011017\n",
      "dtype: float64\n"
     ]
    }
   ],
   "source": [
    "#feature importance graph\n",
    "importances = single_rf.feature_importances_\n",
    "indices = np.argsort(importances)[::-1]\n",
    "feature_names = X.columns    \n",
    "f, ax = plt.subplots(figsize=(11, 9))\n",
    "plt.title(\"Feature ranking\", fontsize = 20)\n",
    "plt.bar(range(X.shape[1]), importances[indices], color=\"b\", align=\"center\")\n",
    "plt.xticks(range(X.shape[1]), indices) #feature_names, rotation='vertical')\n",
    "plt.xlim([-1, X.shape[1]])\n",
    "plt.ylabel(\"importance\", fontsize = 18)\n",
    "plt.xlabel(\"index of the feature\", fontsize = 18)\n",
    "plt.show()\n",
    "\n",
    "#feature importance list\n",
    "important_features = pd.Series(data=single_rf.feature_importances_,index=X.columns)\n",
    "important_features.sort_values(ascending=False,inplace=True)\n",
    "print(important_features.head(10))"
   ]
  },
  {
   "cell_type": "code",
   "execution_count": 18,
   "metadata": {},
   "outputs": [],
   "source": [
    "#attribute 7,9,3 çok etkilememiş."
   ]
  },
  {
   "cell_type": "code",
   "execution_count": 19,
   "metadata": {},
   "outputs": [
    {
     "data": {
      "image/png": "[encoded data removed]",
      "text/plain": [
       "<Figure size 1800x360 with 5 Axes>"
      ]
     },
     "metadata": {
      "needs_background": "light"
     },
     "output_type": "display_data"
    }
   ],
   "source": [
    "f, axes = plt.subplots(ncols=5, figsize=(25,5))\n",
    "\n",
    "sns.boxplot(x=\"failure\", y=\"attribute1\", data=df, ax=axes[0])\n",
    "\n",
    "sns.boxplot(x=\"failure\", y=\"attribute6\", data=df, ax=axes[1])\n",
    "\n",
    "sns.boxplot(x=\"failure\", y=\"attribute2\", data=df, ax=axes[2])\n",
    "\n",
    "sns.boxplot(x=\"failure\", y=\"attribute4\", data=df, ax=axes[3])\n",
    "\n",
    "sns.boxplot(x=\"failure\", y=\"attribute5\", data=df, ax=axes[4])\n",
    "\n",
    "plt.show()"
   ]
  },
  {
   "cell_type": "code",
   "execution_count": 20,
   "metadata": {},
   "outputs": [
    {
     "name": "stdout",
     "output_type": "stream",
     "text": [
      "<class 'pandas.core.frame.DataFrame'>\n",
      "RangeIndex: 124494 entries, 0 to 124493\n",
      "Data columns (total 11 columns):\n",
      " #   Column      Non-Null Count   Dtype \n",
      "---  ------      --------------   ----- \n",
      " 0   date        124494 non-null  object\n",
      " 1   device      124494 non-null  object\n",
      " 2   failure     124494 non-null  int64 \n",
      " 3   attribute1  124494 non-null  int64 \n",
      " 4   attribute2  124494 non-null  int64 \n",
      " 5   attribute3  124494 non-null  int64 \n",
      " 6   attribute4  124494 non-null  int64 \n",
      " 7   attribute5  124494 non-null  int64 \n",
      " 8   attribute6  124494 non-null  int64 \n",
      " 9   attribute7  124494 non-null  int64 \n",
      " 10  attribute9  124494 non-null  int64 \n",
      "dtypes: int64(9), object(2)\n",
      "memory usage: 10.4+ MB\n"
     ]
    }
   ],
   "source": [
    "df.info()"
   ]
  },
  {
   "cell_type": "code",
   "execution_count": 21,
   "metadata": {},
   "outputs": [
    {
     "data": {
      "text/html": [
       "<div>\n",
       "<style scoped>\n",
       "    .dataframe tbody tr th:only-of-type {\n",
       "        vertical-align: middle;\n",
       "    }\n",
       "\n",
       "    .dataframe tbody tr th {\n",
       "        vertical-align: top;\n",
       "    }\n",
       "\n",
       "    .dataframe thead th {\n",
       "        text-align: right;\n",
       "    }\n",
       "</style>\n",
       "<table border=\"1\" class=\"dataframe\">\n",
       "  <thead>\n",
       "    <tr style=\"text-align: right;\">\n",
       "      <th></th>\n",
       "      <th>date</th>\n",
       "      <th>device</th>\n",
       "      <th>failure</th>\n",
       "      <th>attribute1</th>\n",
       "      <th>attribute2</th>\n",
       "      <th>attribute3</th>\n",
       "      <th>attribute4</th>\n",
       "      <th>attribute5</th>\n",
       "      <th>attribute6</th>\n",
       "      <th>attribute7</th>\n",
       "      <th>attribute9</th>\n",
       "    </tr>\n",
       "  </thead>\n",
       "  <tbody>\n",
       "    <tr>\n",
       "      <th>0</th>\n",
       "      <td>2015-01-01</td>\n",
       "      <td>S1F01085</td>\n",
       "      <td>0</td>\n",
       "      <td>215630672</td>\n",
       "      <td>56</td>\n",
       "      <td>0</td>\n",
       "      <td>52</td>\n",
       "      <td>6</td>\n",
       "      <td>407438</td>\n",
       "      <td>0</td>\n",
       "      <td>7</td>\n",
       "    </tr>\n",
       "    <tr>\n",
       "      <th>1</th>\n",
       "      <td>2015-01-01</td>\n",
       "      <td>S1F0166B</td>\n",
       "      <td>0</td>\n",
       "      <td>61370680</td>\n",
       "      <td>0</td>\n",
       "      <td>3</td>\n",
       "      <td>0</td>\n",
       "      <td>6</td>\n",
       "      <td>403174</td>\n",
       "      <td>0</td>\n",
       "      <td>0</td>\n",
       "    </tr>\n",
       "    <tr>\n",
       "      <th>2</th>\n",
       "      <td>2015-01-01</td>\n",
       "      <td>S1F01E6Y</td>\n",
       "      <td>0</td>\n",
       "      <td>173295968</td>\n",
       "      <td>0</td>\n",
       "      <td>0</td>\n",
       "      <td>0</td>\n",
       "      <td>12</td>\n",
       "      <td>237394</td>\n",
       "      <td>0</td>\n",
       "      <td>0</td>\n",
       "    </tr>\n",
       "    <tr>\n",
       "      <th>3</th>\n",
       "      <td>2015-01-01</td>\n",
       "      <td>S1F01JE0</td>\n",
       "      <td>0</td>\n",
       "      <td>79694024</td>\n",
       "      <td>0</td>\n",
       "      <td>0</td>\n",
       "      <td>0</td>\n",
       "      <td>6</td>\n",
       "      <td>410186</td>\n",
       "      <td>0</td>\n",
       "      <td>0</td>\n",
       "    </tr>\n",
       "    <tr>\n",
       "      <th>4</th>\n",
       "      <td>2015-01-01</td>\n",
       "      <td>S1F01R2B</td>\n",
       "      <td>0</td>\n",
       "      <td>135970480</td>\n",
       "      <td>0</td>\n",
       "      <td>0</td>\n",
       "      <td>0</td>\n",
       "      <td>15</td>\n",
       "      <td>313173</td>\n",
       "      <td>0</td>\n",
       "      <td>3</td>\n",
       "    </tr>\n",
       "    <tr>\n",
       "      <th>...</th>\n",
       "      <td>...</td>\n",
       "      <td>...</td>\n",
       "      <td>...</td>\n",
       "      <td>...</td>\n",
       "      <td>...</td>\n",
       "      <td>...</td>\n",
       "      <td>...</td>\n",
       "      <td>...</td>\n",
       "      <td>...</td>\n",
       "      <td>...</td>\n",
       "      <td>...</td>\n",
       "    </tr>\n",
       "    <tr>\n",
       "      <th>124489</th>\n",
       "      <td>2015-11-02</td>\n",
       "      <td>Z1F0MA1S</td>\n",
       "      <td>0</td>\n",
       "      <td>18310224</td>\n",
       "      <td>0</td>\n",
       "      <td>0</td>\n",
       "      <td>0</td>\n",
       "      <td>10</td>\n",
       "      <td>353705</td>\n",
       "      <td>8</td>\n",
       "      <td>0</td>\n",
       "    </tr>\n",
       "    <tr>\n",
       "      <th>124490</th>\n",
       "      <td>2015-11-02</td>\n",
       "      <td>Z1F0Q8RT</td>\n",
       "      <td>0</td>\n",
       "      <td>172556680</td>\n",
       "      <td>96</td>\n",
       "      <td>107</td>\n",
       "      <td>4</td>\n",
       "      <td>11</td>\n",
       "      <td>332792</td>\n",
       "      <td>0</td>\n",
       "      <td>13</td>\n",
       "    </tr>\n",
       "    <tr>\n",
       "      <th>124491</th>\n",
       "      <td>2015-11-02</td>\n",
       "      <td>Z1F0QK05</td>\n",
       "      <td>0</td>\n",
       "      <td>19029120</td>\n",
       "      <td>4832</td>\n",
       "      <td>0</td>\n",
       "      <td>0</td>\n",
       "      <td>11</td>\n",
       "      <td>350410</td>\n",
       "      <td>0</td>\n",
       "      <td>0</td>\n",
       "    </tr>\n",
       "    <tr>\n",
       "      <th>124492</th>\n",
       "      <td>2015-11-02</td>\n",
       "      <td>Z1F0QL3N</td>\n",
       "      <td>0</td>\n",
       "      <td>226953408</td>\n",
       "      <td>0</td>\n",
       "      <td>0</td>\n",
       "      <td>0</td>\n",
       "      <td>12</td>\n",
       "      <td>358980</td>\n",
       "      <td>0</td>\n",
       "      <td>0</td>\n",
       "    </tr>\n",
       "    <tr>\n",
       "      <th>124493</th>\n",
       "      <td>2015-11-02</td>\n",
       "      <td>Z1F0QLC1</td>\n",
       "      <td>0</td>\n",
       "      <td>17572840</td>\n",
       "      <td>0</td>\n",
       "      <td>0</td>\n",
       "      <td>0</td>\n",
       "      <td>10</td>\n",
       "      <td>351431</td>\n",
       "      <td>0</td>\n",
       "      <td>0</td>\n",
       "    </tr>\n",
       "  </tbody>\n",
       "</table>\n",
       "<p>124494 rows × 11 columns</p>\n",
       "</div>"
      ],
      "text/plain": [
       "              date    device  failure  attribute1  attribute2  attribute3  \\\n",
       "0       2015-01-01  S1F01085        0   215630672          56           0   \n",
       "1       2015-01-01  S1F0166B        0    61370680           0           3   \n",
       "2       2015-01-01  S1F01E6Y        0   173295968           0           0   \n",
       "3       2015-01-01  S1F01JE0        0    79694024           0           0   \n",
       "4       2015-01-01  S1F01R2B        0   135970480           0           0   \n",
       "...            ...       ...      ...         ...         ...         ...   \n",
       "124489  2015-11-02  Z1F0MA1S        0    18310224           0           0   \n",
       "124490  2015-11-02  Z1F0Q8RT        0   172556680          96         107   \n",
       "124491  2015-11-02  Z1F0QK05        0    19029120        4832           0   \n",
       "124492  2015-11-02  Z1F0QL3N        0   226953408           0           0   \n",
       "124493  2015-11-02  Z1F0QLC1        0    17572840           0           0   \n",
       "\n",
       "        attribute4  attribute5  attribute6  attribute7  attribute9  \n",
       "0               52           6      407438           0           7  \n",
       "1                0           6      403174           0           0  \n",
       "2                0          12      237394           0           0  \n",
       "3                0           6      410186           0           0  \n",
       "4                0          15      313173           0           3  \n",
       "...            ...         ...         ...         ...         ...  \n",
       "124489           0          10      353705           8           0  \n",
       "124490           4          11      332792           0          13  \n",
       "124491           0          11      350410           0           0  \n",
       "124492           0          12      358980           0           0  \n",
       "124493           0          10      351431           0           0  \n",
       "\n",
       "[124494 rows x 11 columns]"
      ]
     },
     "execution_count": 21,
     "metadata": {},
     "output_type": "execute_result"
    }
   ],
   "source": [
    "df"
   ]
  },
  {
   "cell_type": "code",
   "execution_count": 8,
   "metadata": {},
   "outputs": [],
   "source": [
    "import datetime as dt\n",
    "df['date']=pd.to_datetime(df['date'])\n",
    "df['year']=df['date'].dt.year\n",
    "df['month']=df['date'].dt.month\n",
    "df['day']=df['date'].dt.day\n",
    "df=df.drop('date',axis=1)"
   ]
  },
  {
   "cell_type": "code",
   "execution_count": 9,
   "metadata": {},
   "outputs": [
    {
     "data": {
      "text/plain": [
       "2015    124494\n",
       "Name: year, dtype: int64"
      ]
     },
     "execution_count": 9,
     "metadata": {},
     "output_type": "execute_result"
    }
   ],
   "source": [
    "df.year.value_counts()"
   ]
  },
  {
   "cell_type": "code",
   "execution_count": 10,
   "metadata": {},
   "outputs": [],
   "source": [
    "df=df.drop('year',axis=1) "
   ]
  },
  {
   "cell_type": "code",
   "execution_count": 25,
   "metadata": {},
   "outputs": [
    {
     "data": {
      "image/png": "[encoded data removed]",
      "text/plain": [
       "<Figure size 1296x288 with 2 Axes>"
      ]
     },
     "metadata": {
      "needs_background": "light"
     },
     "output_type": "display_data"
    }
   ],
   "source": [
    "fig, ax = plt.subplots(1, 2, figsize=(18,4))\n",
    "\n",
    "sns.distplot(df['month'].values, ax=ax[0], color='r')\n",
    "ax[0].set_title('Distribution of Transaction by Month', fontsize=14)\n",
    "ax[0].set_xlim([min(df['month'].values), max(df['month'].values)])\n",
    "\n",
    "sns.distplot(df['day'].values, ax=ax[1], color='b')\n",
    "ax[1].set_title('Distribution of Transaction by Day', fontsize=14)\n",
    "ax[1].set_xlim([min(df['day'].values), max(df['day'].values)])\n",
    "\n",
    "\n",
    "plt.show()"
   ]
  },
  {
   "cell_type": "code",
   "execution_count": 26,
   "metadata": {},
   "outputs": [
    {
     "data": {
      "image/png": "[encoded data removed]",
      "text/plain": [
       "<Figure size 720x288 with 1 Axes>"
      ]
     },
     "metadata": {
      "needs_background": "light"
     },
     "output_type": "display_data"
    }
   ],
   "source": [
    "fig, ax = plt.subplots(figsize=(10,4))\n",
    "sns.distplot(df['failure'].values, ax=ax, color='r')\n",
    "ax.set_title('Distribution of Failure', fontsize=14)\n",
    "ax.set_xlim([min(df['failure'].values), max(df['failure'].values)])\n",
    "plt.show()"
   ]
  },
  {
   "cell_type": "code",
   "execution_count": 27,
   "metadata": {},
   "outputs": [
    {
     "name": "stdout",
     "output_type": "stream",
     "text": [
      "<class 'pandas.core.frame.DataFrame'>\n",
      "RangeIndex: 124494 entries, 0 to 124493\n",
      "Data columns (total 12 columns):\n",
      " #   Column      Non-Null Count   Dtype \n",
      "---  ------      --------------   ----- \n",
      " 0   device      124494 non-null  object\n",
      " 1   failure     124494 non-null  int64 \n",
      " 2   attribute1  124494 non-null  int64 \n",
      " 3   attribute2  124494 non-null  int64 \n",
      " 4   attribute3  124494 non-null  int64 \n",
      " 5   attribute4  124494 non-null  int64 \n",
      " 6   attribute5  124494 non-null  int64 \n",
      " 7   attribute6  124494 non-null  int64 \n",
      " 8   attribute7  124494 non-null  int64 \n",
      " 9   attribute9  124494 non-null  int64 \n",
      " 10  month       124494 non-null  int64 \n",
      " 11  day         124494 non-null  int64 \n",
      "dtypes: int64(11), object(1)\n",
      "memory usage: 11.4+ MB\n"
     ]
    }
   ],
   "source": [
    "df.info()"
   ]
  },
  {
   "cell_type": "code",
   "execution_count": 11,
   "metadata": {},
   "outputs": [],
   "source": [
    "df[\"device\"]=[i[:4] for i in df.device.values]"
   ]
  },
  {
   "cell_type": "code",
   "execution_count": 12,
   "metadata": {},
   "outputs": [
    {
     "data": {
      "text/html": [
       "<div>\n",
       "<style scoped>\n",
       "    .dataframe tbody tr th:only-of-type {\n",
       "        vertical-align: middle;\n",
       "    }\n",
       "\n",
       "    .dataframe tbody tr th {\n",
       "        vertical-align: top;\n",
       "    }\n",
       "\n",
       "    .dataframe thead th {\n",
       "        text-align: right;\n",
       "    }\n",
       "</style>\n",
       "<table border=\"1\" class=\"dataframe\">\n",
       "  <thead>\n",
       "    <tr style=\"text-align: right;\">\n",
       "      <th></th>\n",
       "      <th>device</th>\n",
       "      <th>failure</th>\n",
       "      <th>attribute1</th>\n",
       "      <th>attribute2</th>\n",
       "      <th>attribute3</th>\n",
       "      <th>attribute4</th>\n",
       "      <th>attribute5</th>\n",
       "      <th>attribute6</th>\n",
       "      <th>attribute7</th>\n",
       "      <th>attribute9</th>\n",
       "      <th>month</th>\n",
       "      <th>day</th>\n",
       "    </tr>\n",
       "  </thead>\n",
       "  <tbody>\n",
       "    <tr>\n",
       "      <th>0</th>\n",
       "      <td>S1F0</td>\n",
       "      <td>0</td>\n",
       "      <td>215630672</td>\n",
       "      <td>56</td>\n",
       "      <td>0</td>\n",
       "      <td>52</td>\n",
       "      <td>6</td>\n",
       "      <td>407438</td>\n",
       "      <td>0</td>\n",
       "      <td>7</td>\n",
       "      <td>1</td>\n",
       "      <td>1</td>\n",
       "    </tr>\n",
       "    <tr>\n",
       "      <th>1</th>\n",
       "      <td>S1F0</td>\n",
       "      <td>0</td>\n",
       "      <td>61370680</td>\n",
       "      <td>0</td>\n",
       "      <td>3</td>\n",
       "      <td>0</td>\n",
       "      <td>6</td>\n",
       "      <td>403174</td>\n",
       "      <td>0</td>\n",
       "      <td>0</td>\n",
       "      <td>1</td>\n",
       "      <td>1</td>\n",
       "    </tr>\n",
       "    <tr>\n",
       "      <th>2</th>\n",
       "      <td>S1F0</td>\n",
       "      <td>0</td>\n",
       "      <td>173295968</td>\n",
       "      <td>0</td>\n",
       "      <td>0</td>\n",
       "      <td>0</td>\n",
       "      <td>12</td>\n",
       "      <td>237394</td>\n",
       "      <td>0</td>\n",
       "      <td>0</td>\n",
       "      <td>1</td>\n",
       "      <td>1</td>\n",
       "    </tr>\n",
       "    <tr>\n",
       "      <th>3</th>\n",
       "      <td>S1F0</td>\n",
       "      <td>0</td>\n",
       "      <td>79694024</td>\n",
       "      <td>0</td>\n",
       "      <td>0</td>\n",
       "      <td>0</td>\n",
       "      <td>6</td>\n",
       "      <td>410186</td>\n",
       "      <td>0</td>\n",
       "      <td>0</td>\n",
       "      <td>1</td>\n",
       "      <td>1</td>\n",
       "    </tr>\n",
       "    <tr>\n",
       "      <th>4</th>\n",
       "      <td>S1F0</td>\n",
       "      <td>0</td>\n",
       "      <td>135970480</td>\n",
       "      <td>0</td>\n",
       "      <td>0</td>\n",
       "      <td>0</td>\n",
       "      <td>15</td>\n",
       "      <td>313173</td>\n",
       "      <td>0</td>\n",
       "      <td>3</td>\n",
       "      <td>1</td>\n",
       "      <td>1</td>\n",
       "    </tr>\n",
       "    <tr>\n",
       "      <th>...</th>\n",
       "      <td>...</td>\n",
       "      <td>...</td>\n",
       "      <td>...</td>\n",
       "      <td>...</td>\n",
       "      <td>...</td>\n",
       "      <td>...</td>\n",
       "      <td>...</td>\n",
       "      <td>...</td>\n",
       "      <td>...</td>\n",
       "      <td>...</td>\n",
       "      <td>...</td>\n",
       "      <td>...</td>\n",
       "    </tr>\n",
       "    <tr>\n",
       "      <th>124489</th>\n",
       "      <td>Z1F0</td>\n",
       "      <td>0</td>\n",
       "      <td>18310224</td>\n",
       "      <td>0</td>\n",
       "      <td>0</td>\n",
       "      <td>0</td>\n",
       "      <td>10</td>\n",
       "      <td>353705</td>\n",
       "      <td>8</td>\n",
       "      <td>0</td>\n",
       "      <td>11</td>\n",
       "      <td>2</td>\n",
       "    </tr>\n",
       "    <tr>\n",
       "      <th>124490</th>\n",
       "      <td>Z1F0</td>\n",
       "      <td>0</td>\n",
       "      <td>172556680</td>\n",
       "      <td>96</td>\n",
       "      <td>107</td>\n",
       "      <td>4</td>\n",
       "      <td>11</td>\n",
       "      <td>332792</td>\n",
       "      <td>0</td>\n",
       "      <td>13</td>\n",
       "      <td>11</td>\n",
       "      <td>2</td>\n",
       "    </tr>\n",
       "    <tr>\n",
       "      <th>124491</th>\n",
       "      <td>Z1F0</td>\n",
       "      <td>0</td>\n",
       "      <td>19029120</td>\n",
       "      <td>4832</td>\n",
       "      <td>0</td>\n",
       "      <td>0</td>\n",
       "      <td>11</td>\n",
       "      <td>350410</td>\n",
       "      <td>0</td>\n",
       "      <td>0</td>\n",
       "      <td>11</td>\n",
       "      <td>2</td>\n",
       "    </tr>\n",
       "    <tr>\n",
       "      <th>124492</th>\n",
       "      <td>Z1F0</td>\n",
       "      <td>0</td>\n",
       "      <td>226953408</td>\n",
       "      <td>0</td>\n",
       "      <td>0</td>\n",
       "      <td>0</td>\n",
       "      <td>12</td>\n",
       "      <td>358980</td>\n",
       "      <td>0</td>\n",
       "      <td>0</td>\n",
       "      <td>11</td>\n",
       "      <td>2</td>\n",
       "    </tr>\n",
       "    <tr>\n",
       "      <th>124493</th>\n",
       "      <td>Z1F0</td>\n",
       "      <td>0</td>\n",
       "      <td>17572840</td>\n",
       "      <td>0</td>\n",
       "      <td>0</td>\n",
       "      <td>0</td>\n",
       "      <td>10</td>\n",
       "      <td>351431</td>\n",
       "      <td>0</td>\n",
       "      <td>0</td>\n",
       "      <td>11</td>\n",
       "      <td>2</td>\n",
       "    </tr>\n",
       "  </tbody>\n",
       "</table>\n",
       "<p>124494 rows × 12 columns</p>\n",
       "</div>"
      ],
      "text/plain": [
       "       device  failure  attribute1  attribute2  attribute3  attribute4  \\\n",
       "0        S1F0        0   215630672          56           0          52   \n",
       "1        S1F0        0    61370680           0           3           0   \n",
       "2        S1F0        0   173295968           0           0           0   \n",
       "3        S1F0        0    79694024           0           0           0   \n",
       "4        S1F0        0   135970480           0           0           0   \n",
       "...       ...      ...         ...         ...         ...         ...   \n",
       "124489   Z1F0        0    18310224           0           0           0   \n",
       "124490   Z1F0        0   172556680          96         107           4   \n",
       "124491   Z1F0        0    19029120        4832           0           0   \n",
       "124492   Z1F0        0   226953408           0           0           0   \n",
       "124493   Z1F0        0    17572840           0           0           0   \n",
       "\n",
       "        attribute5  attribute6  attribute7  attribute9  month  day  \n",
       "0                6      407438           0           7      1    1  \n",
       "1                6      403174           0           0      1    1  \n",
       "2               12      237394           0           0      1    1  \n",
       "3                6      410186           0           0      1    1  \n",
       "4               15      313173           0           3      1    1  \n",
       "...            ...         ...         ...         ...    ...  ...  \n",
       "124489          10      353705           8           0     11    2  \n",
       "124490          11      332792           0          13     11    2  \n",
       "124491          11      350410           0           0     11    2  \n",
       "124492          12      358980           0           0     11    2  \n",
       "124493          10      351431           0           0     11    2  \n",
       "\n",
       "[124494 rows x 12 columns]"
      ]
     },
     "execution_count": 12,
     "metadata": {},
     "output_type": "execute_result"
    }
   ],
   "source": [
    "df"
   ]
  },
  {
   "cell_type": "code",
   "execution_count": 30,
   "metadata": {},
   "outputs": [
    {
     "data": {
      "image/png": "[encoded data removed]",
      "text/plain": [
       "<Figure size 1440x432 with 5 Axes>"
      ]
     },
     "metadata": {
      "needs_background": "light"
     },
     "output_type": "display_data"
    }
   ],
   "source": [
    "from scipy.stats import norm\n",
    "\n",
    "f, (ax1, ax2, ax3, ax4, ax5) = plt.subplots(1,5, figsize=(20, 6))\n",
    "\n",
    "attribute_1 = df['attribute1'].loc[df['failure'] == 1].values\n",
    "sns.distplot(attribute_1,ax=ax1, fit=norm, color='#FB8861')\n",
    "ax1.set_title('attribute1 Distribution', fontsize=14)\n",
    "\n",
    "attribute_6 = df['attribute6'].loc[df['failure'] == 1].values\n",
    "sns.distplot(attribute_6,ax=ax2, fit=norm, color='#56F9BB')\n",
    "ax2.set_title('attribute6 Distribution', fontsize=14)\n",
    "\n",
    "\n",
    "attribute_2 = df['attribute2'].loc[df['failure'] == 1].values\n",
    "sns.distplot(attribute_2,ax=ax3, fit=norm, color='#C5B3F9')\n",
    "ax3.set_title('attribute2 Distribution', fontsize=14)\n",
    "\n",
    "attribute_4 = df['attribute4'].loc[df['failure'] == 1].values\n",
    "sns.distplot(attribute_4,ax=ax4, fit=norm, color='#C5B3F9')\n",
    "ax4.set_title('attribute4 Distribution', fontsize=14)\n",
    "\n",
    "attribute_5 = df['attribute5'].loc[df['failure'] == 1].values\n",
    "sns.distplot(attribute_5,ax=ax5, fit=norm, color='#C5B3F9')\n",
    "ax5.set_title('attribute5 Distribution', fontsize=14)\n",
    "\n",
    "plt.show()"
   ]
  },
  {
   "cell_type": "code",
   "execution_count": 63,
   "metadata": {},
   "outputs": [],
   "source": [
    "X = df.drop('failure', axis=1)\n",
    "y = df['failure']"
   ]
  },
  {
   "cell_type": "code",
   "execution_count": 64,
   "metadata": {},
   "outputs": [
    {
     "data": {
      "text/html": [
       "<div>\n",
       "<style scoped>\n",
       "    .dataframe tbody tr th:only-of-type {\n",
       "        vertical-align: middle;\n",
       "    }\n",
       "\n",
       "    .dataframe tbody tr th {\n",
       "        vertical-align: top;\n",
       "    }\n",
       "\n",
       "    .dataframe thead th {\n",
       "        text-align: right;\n",
       "    }\n",
       "</style>\n",
       "<table border=\"1\" class=\"dataframe\">\n",
       "  <thead>\n",
       "    <tr style=\"text-align: right;\">\n",
       "      <th></th>\n",
       "      <th>device</th>\n",
       "      <th>attribute1</th>\n",
       "      <th>attribute2</th>\n",
       "      <th>attribute3</th>\n",
       "      <th>attribute4</th>\n",
       "      <th>attribute5</th>\n",
       "      <th>attribute6</th>\n",
       "      <th>attribute7</th>\n",
       "      <th>attribute9</th>\n",
       "      <th>month</th>\n",
       "      <th>day</th>\n",
       "    </tr>\n",
       "  </thead>\n",
       "  <tbody>\n",
       "    <tr>\n",
       "      <th>0</th>\n",
       "      <td>S1F0</td>\n",
       "      <td>215630672</td>\n",
       "      <td>56</td>\n",
       "      <td>0</td>\n",
       "      <td>52</td>\n",
       "      <td>6</td>\n",
       "      <td>407438</td>\n",
       "      <td>0</td>\n",
       "      <td>7</td>\n",
       "      <td>1</td>\n",
       "      <td>1</td>\n",
       "    </tr>\n",
       "    <tr>\n",
       "      <th>1</th>\n",
       "      <td>S1F0</td>\n",
       "      <td>61370680</td>\n",
       "      <td>0</td>\n",
       "      <td>3</td>\n",
       "      <td>0</td>\n",
       "      <td>6</td>\n",
       "      <td>403174</td>\n",
       "      <td>0</td>\n",
       "      <td>0</td>\n",
       "      <td>1</td>\n",
       "      <td>1</td>\n",
       "    </tr>\n",
       "    <tr>\n",
       "      <th>2</th>\n",
       "      <td>S1F0</td>\n",
       "      <td>173295968</td>\n",
       "      <td>0</td>\n",
       "      <td>0</td>\n",
       "      <td>0</td>\n",
       "      <td>12</td>\n",
       "      <td>237394</td>\n",
       "      <td>0</td>\n",
       "      <td>0</td>\n",
       "      <td>1</td>\n",
       "      <td>1</td>\n",
       "    </tr>\n",
       "    <tr>\n",
       "      <th>3</th>\n",
       "      <td>S1F0</td>\n",
       "      <td>79694024</td>\n",
       "      <td>0</td>\n",
       "      <td>0</td>\n",
       "      <td>0</td>\n",
       "      <td>6</td>\n",
       "      <td>410186</td>\n",
       "      <td>0</td>\n",
       "      <td>0</td>\n",
       "      <td>1</td>\n",
       "      <td>1</td>\n",
       "    </tr>\n",
       "    <tr>\n",
       "      <th>4</th>\n",
       "      <td>S1F0</td>\n",
       "      <td>135970480</td>\n",
       "      <td>0</td>\n",
       "      <td>0</td>\n",
       "      <td>0</td>\n",
       "      <td>15</td>\n",
       "      <td>313173</td>\n",
       "      <td>0</td>\n",
       "      <td>3</td>\n",
       "      <td>1</td>\n",
       "      <td>1</td>\n",
       "    </tr>\n",
       "    <tr>\n",
       "      <th>...</th>\n",
       "      <td>...</td>\n",
       "      <td>...</td>\n",
       "      <td>...</td>\n",
       "      <td>...</td>\n",
       "      <td>...</td>\n",
       "      <td>...</td>\n",
       "      <td>...</td>\n",
       "      <td>...</td>\n",
       "      <td>...</td>\n",
       "      <td>...</td>\n",
       "      <td>...</td>\n",
       "    </tr>\n",
       "    <tr>\n",
       "      <th>124489</th>\n",
       "      <td>Z1F0</td>\n",
       "      <td>18310224</td>\n",
       "      <td>0</td>\n",
       "      <td>0</td>\n",
       "      <td>0</td>\n",
       "      <td>10</td>\n",
       "      <td>353705</td>\n",
       "      <td>8</td>\n",
       "      <td>0</td>\n",
       "      <td>11</td>\n",
       "      <td>2</td>\n",
       "    </tr>\n",
       "    <tr>\n",
       "      <th>124490</th>\n",
       "      <td>Z1F0</td>\n",
       "      <td>172556680</td>\n",
       "      <td>96</td>\n",
       "      <td>107</td>\n",
       "      <td>4</td>\n",
       "      <td>11</td>\n",
       "      <td>332792</td>\n",
       "      <td>0</td>\n",
       "      <td>13</td>\n",
       "      <td>11</td>\n",
       "      <td>2</td>\n",
       "    </tr>\n",
       "    <tr>\n",
       "      <th>124491</th>\n",
       "      <td>Z1F0</td>\n",
       "      <td>19029120</td>\n",
       "      <td>4832</td>\n",
       "      <td>0</td>\n",
       "      <td>0</td>\n",
       "      <td>11</td>\n",
       "      <td>350410</td>\n",
       "      <td>0</td>\n",
       "      <td>0</td>\n",
       "      <td>11</td>\n",
       "      <td>2</td>\n",
       "    </tr>\n",
       "    <tr>\n",
       "      <th>124492</th>\n",
       "      <td>Z1F0</td>\n",
       "      <td>226953408</td>\n",
       "      <td>0</td>\n",
       "      <td>0</td>\n",
       "      <td>0</td>\n",
       "      <td>12</td>\n",
       "      <td>358980</td>\n",
       "      <td>0</td>\n",
       "      <td>0</td>\n",
       "      <td>11</td>\n",
       "      <td>2</td>\n",
       "    </tr>\n",
       "    <tr>\n",
       "      <th>124493</th>\n",
       "      <td>Z1F0</td>\n",
       "      <td>17572840</td>\n",
       "      <td>0</td>\n",
       "      <td>0</td>\n",
       "      <td>0</td>\n",
       "      <td>10</td>\n",
       "      <td>351431</td>\n",
       "      <td>0</td>\n",
       "      <td>0</td>\n",
       "      <td>11</td>\n",
       "      <td>2</td>\n",
       "    </tr>\n",
       "  </tbody>\n",
       "</table>\n",
       "<p>124494 rows × 11 columns</p>\n",
       "</div>"
      ],
      "text/plain": [
       "       device  attribute1  attribute2  attribute3  attribute4  attribute5  \\\n",
       "0        S1F0   215630672          56           0          52           6   \n",
       "1        S1F0    61370680           0           3           0           6   \n",
       "2        S1F0   173295968           0           0           0          12   \n",
       "3        S1F0    79694024           0           0           0           6   \n",
       "4        S1F0   135970480           0           0           0          15   \n",
       "...       ...         ...         ...         ...         ...         ...   \n",
       "124489   Z1F0    18310224           0           0           0          10   \n",
       "124490   Z1F0   172556680          96         107           4          11   \n",
       "124491   Z1F0    19029120        4832           0           0          11   \n",
       "124492   Z1F0   226953408           0           0           0          12   \n",
       "124493   Z1F0    17572840           0           0           0          10   \n",
       "\n",
       "        attribute6  attribute7  attribute9  month  day  \n",
       "0           407438           0           7      1    1  \n",
       "1           403174           0           0      1    1  \n",
       "2           237394           0           0      1    1  \n",
       "3           410186           0           0      1    1  \n",
       "4           313173           0           3      1    1  \n",
       "...            ...         ...         ...    ...  ...  \n",
       "124489      353705           8           0     11    2  \n",
       "124490      332792           0          13     11    2  \n",
       "124491      350410           0           0     11    2  \n",
       "124492      358980           0           0     11    2  \n",
       "124493      351431           0           0     11    2  \n",
       "\n",
       "[124494 rows x 11 columns]"
      ]
     },
     "execution_count": 64,
     "metadata": {},
     "output_type": "execute_result"
    }
   ],
   "source": [
    "X"
   ]
  },
  {
   "cell_type": "code",
   "execution_count": 65,
   "metadata": {},
   "outputs": [
    {
     "data": {
      "text/plain": [
       "0    124388\n",
       "1       106\n",
       "Name: failure, dtype: int64"
      ]
     },
     "execution_count": 65,
     "metadata": {},
     "output_type": "execute_result"
    }
   ],
   "source": [
    "y.value_counts()"
   ]
  },
  {
   "cell_type": "code",
   "execution_count": 66,
   "metadata": {},
   "outputs": [],
   "source": [
    "X=pd.get_dummies(X,drop_first=True)"
   ]
  },
  {
   "cell_type": "code",
   "execution_count": 67,
   "metadata": {},
   "outputs": [
    {
     "data": {
      "text/html": [
       "<div>\n",
       "<style scoped>\n",
       "    .dataframe tbody tr th:only-of-type {\n",
       "        vertical-align: middle;\n",
       "    }\n",
       "\n",
       "    .dataframe tbody tr th {\n",
       "        vertical-align: top;\n",
       "    }\n",
       "\n",
       "    .dataframe thead th {\n",
       "        text-align: right;\n",
       "    }\n",
       "</style>\n",
       "<table border=\"1\" class=\"dataframe\">\n",
       "  <thead>\n",
       "    <tr style=\"text-align: right;\">\n",
       "      <th></th>\n",
       "      <th>attribute1</th>\n",
       "      <th>attribute2</th>\n",
       "      <th>attribute3</th>\n",
       "      <th>attribute4</th>\n",
       "      <th>attribute5</th>\n",
       "      <th>attribute6</th>\n",
       "      <th>attribute7</th>\n",
       "      <th>attribute9</th>\n",
       "      <th>month</th>\n",
       "      <th>day</th>\n",
       "      <th>device_S1F1</th>\n",
       "      <th>device_W1F0</th>\n",
       "      <th>device_W1F1</th>\n",
       "      <th>device_Z1F0</th>\n",
       "      <th>device_Z1F1</th>\n",
       "      <th>device_Z1F2</th>\n",
       "    </tr>\n",
       "  </thead>\n",
       "  <tbody>\n",
       "    <tr>\n",
       "      <th>0</th>\n",
       "      <td>215630672</td>\n",
       "      <td>56</td>\n",
       "      <td>0</td>\n",
       "      <td>52</td>\n",
       "      <td>6</td>\n",
       "      <td>407438</td>\n",
       "      <td>0</td>\n",
       "      <td>7</td>\n",
       "      <td>1</td>\n",
       "      <td>1</td>\n",
       "      <td>0</td>\n",
       "      <td>0</td>\n",
       "      <td>0</td>\n",
       "      <td>0</td>\n",
       "      <td>0</td>\n",
       "      <td>0</td>\n",
       "    </tr>\n",
       "    <tr>\n",
       "      <th>1</th>\n",
       "      <td>61370680</td>\n",
       "      <td>0</td>\n",
       "      <td>3</td>\n",
       "      <td>0</td>\n",
       "      <td>6</td>\n",
       "      <td>403174</td>\n",
       "      <td>0</td>\n",
       "      <td>0</td>\n",
       "      <td>1</td>\n",
       "      <td>1</td>\n",
       "      <td>0</td>\n",
       "      <td>0</td>\n",
       "      <td>0</td>\n",
       "      <td>0</td>\n",
       "      <td>0</td>\n",
       "      <td>0</td>\n",
       "    </tr>\n",
       "    <tr>\n",
       "      <th>2</th>\n",
       "      <td>173295968</td>\n",
       "      <td>0</td>\n",
       "      <td>0</td>\n",
       "      <td>0</td>\n",
       "      <td>12</td>\n",
       "      <td>237394</td>\n",
       "      <td>0</td>\n",
       "      <td>0</td>\n",
       "      <td>1</td>\n",
       "      <td>1</td>\n",
       "      <td>0</td>\n",
       "      <td>0</td>\n",
       "      <td>0</td>\n",
       "      <td>0</td>\n",
       "      <td>0</td>\n",
       "      <td>0</td>\n",
       "    </tr>\n",
       "    <tr>\n",
       "      <th>3</th>\n",
       "      <td>79694024</td>\n",
       "      <td>0</td>\n",
       "      <td>0</td>\n",
       "      <td>0</td>\n",
       "      <td>6</td>\n",
       "      <td>410186</td>\n",
       "      <td>0</td>\n",
       "      <td>0</td>\n",
       "      <td>1</td>\n",
       "      <td>1</td>\n",
       "      <td>0</td>\n",
       "      <td>0</td>\n",
       "      <td>0</td>\n",
       "      <td>0</td>\n",
       "      <td>0</td>\n",
       "      <td>0</td>\n",
       "    </tr>\n",
       "    <tr>\n",
       "      <th>4</th>\n",
       "      <td>135970480</td>\n",
       "      <td>0</td>\n",
       "      <td>0</td>\n",
       "      <td>0</td>\n",
       "      <td>15</td>\n",
       "      <td>313173</td>\n",
       "      <td>0</td>\n",
       "      <td>3</td>\n",
       "      <td>1</td>\n",
       "      <td>1</td>\n",
       "      <td>0</td>\n",
       "      <td>0</td>\n",
       "      <td>0</td>\n",
       "      <td>0</td>\n",
       "      <td>0</td>\n",
       "      <td>0</td>\n",
       "    </tr>\n",
       "    <tr>\n",
       "      <th>...</th>\n",
       "      <td>...</td>\n",
       "      <td>...</td>\n",
       "      <td>...</td>\n",
       "      <td>...</td>\n",
       "      <td>...</td>\n",
       "      <td>...</td>\n",
       "      <td>...</td>\n",
       "      <td>...</td>\n",
       "      <td>...</td>\n",
       "      <td>...</td>\n",
       "      <td>...</td>\n",
       "      <td>...</td>\n",
       "      <td>...</td>\n",
       "      <td>...</td>\n",
       "      <td>...</td>\n",
       "      <td>...</td>\n",
       "    </tr>\n",
       "    <tr>\n",
       "      <th>124489</th>\n",
       "      <td>18310224</td>\n",
       "      <td>0</td>\n",
       "      <td>0</td>\n",
       "      <td>0</td>\n",
       "      <td>10</td>\n",
       "      <td>353705</td>\n",
       "      <td>8</td>\n",
       "      <td>0</td>\n",
       "      <td>11</td>\n",
       "      <td>2</td>\n",
       "      <td>0</td>\n",
       "      <td>0</td>\n",
       "      <td>0</td>\n",
       "      <td>1</td>\n",
       "      <td>0</td>\n",
       "      <td>0</td>\n",
       "    </tr>\n",
       "    <tr>\n",
       "      <th>124490</th>\n",
       "      <td>172556680</td>\n",
       "      <td>96</td>\n",
       "      <td>107</td>\n",
       "      <td>4</td>\n",
       "      <td>11</td>\n",
       "      <td>332792</td>\n",
       "      <td>0</td>\n",
       "      <td>13</td>\n",
       "      <td>11</td>\n",
       "      <td>2</td>\n",
       "      <td>0</td>\n",
       "      <td>0</td>\n",
       "      <td>0</td>\n",
       "      <td>1</td>\n",
       "      <td>0</td>\n",
       "      <td>0</td>\n",
       "    </tr>\n",
       "    <tr>\n",
       "      <th>124491</th>\n",
       "      <td>19029120</td>\n",
       "      <td>4832</td>\n",
       "      <td>0</td>\n",
       "      <td>0</td>\n",
       "      <td>11</td>\n",
       "      <td>350410</td>\n",
       "      <td>0</td>\n",
       "      <td>0</td>\n",
       "      <td>11</td>\n",
       "      <td>2</td>\n",
       "      <td>0</td>\n",
       "      <td>0</td>\n",
       "      <td>0</td>\n",
       "      <td>1</td>\n",
       "      <td>0</td>\n",
       "      <td>0</td>\n",
       "    </tr>\n",
       "    <tr>\n",
       "      <th>124492</th>\n",
       "      <td>226953408</td>\n",
       "      <td>0</td>\n",
       "      <td>0</td>\n",
       "      <td>0</td>\n",
       "      <td>12</td>\n",
       "      <td>358980</td>\n",
       "      <td>0</td>\n",
       "      <td>0</td>\n",
       "      <td>11</td>\n",
       "      <td>2</td>\n",
       "      <td>0</td>\n",
       "      <td>0</td>\n",
       "      <td>0</td>\n",
       "      <td>1</td>\n",
       "      <td>0</td>\n",
       "      <td>0</td>\n",
       "    </tr>\n",
       "    <tr>\n",
       "      <th>124493</th>\n",
       "      <td>17572840</td>\n",
       "      <td>0</td>\n",
       "      <td>0</td>\n",
       "      <td>0</td>\n",
       "      <td>10</td>\n",
       "      <td>351431</td>\n",
       "      <td>0</td>\n",
       "      <td>0</td>\n",
       "      <td>11</td>\n",
       "      <td>2</td>\n",
       "      <td>0</td>\n",
       "      <td>0</td>\n",
       "      <td>0</td>\n",
       "      <td>1</td>\n",
       "      <td>0</td>\n",
       "      <td>0</td>\n",
       "    </tr>\n",
       "  </tbody>\n",
       "</table>\n",
       "<p>124494 rows × 16 columns</p>\n",
       "</div>"
      ],
      "text/plain": [
       "        attribute1  attribute2  attribute3  attribute4  attribute5  \\\n",
       "0        215630672          56           0          52           6   \n",
       "1         61370680           0           3           0           6   \n",
       "2        173295968           0           0           0          12   \n",
       "3         79694024           0           0           0           6   \n",
       "4        135970480           0           0           0          15   \n",
       "...            ...         ...         ...         ...         ...   \n",
       "124489    18310224           0           0           0          10   \n",
       "124490   172556680          96         107           4          11   \n",
       "124491    19029120        4832           0           0          11   \n",
       "124492   226953408           0           0           0          12   \n",
       "124493    17572840           0           0           0          10   \n",
       "\n",
       "        attribute6  attribute7  attribute9  month  day  device_S1F1  \\\n",
       "0           407438           0           7      1    1            0   \n",
       "1           403174           0           0      1    1            0   \n",
       "2           237394           0           0      1    1            0   \n",
       "3           410186           0           0      1    1            0   \n",
       "4           313173           0           3      1    1            0   \n",
       "...            ...         ...         ...    ...  ...          ...   \n",
       "124489      353705           8           0     11    2            0   \n",
       "124490      332792           0          13     11    2            0   \n",
       "124491      350410           0           0     11    2            0   \n",
       "124492      358980           0           0     11    2            0   \n",
       "124493      351431           0           0     11    2            0   \n",
       "\n",
       "        device_W1F0  device_W1F1  device_Z1F0  device_Z1F1  device_Z1F2  \n",
       "0                 0            0            0            0            0  \n",
       "1                 0            0            0            0            0  \n",
       "2                 0            0            0            0            0  \n",
       "3                 0            0            0            0            0  \n",
       "4                 0            0            0            0            0  \n",
       "...             ...          ...          ...          ...          ...  \n",
       "124489            0            0            1            0            0  \n",
       "124490            0            0            1            0            0  \n",
       "124491            0            0            1            0            0  \n",
       "124492            0            0            1            0            0  \n",
       "124493            0            0            1            0            0  \n",
       "\n",
       "[124494 rows x 16 columns]"
      ]
     },
     "execution_count": 67,
     "metadata": {},
     "output_type": "execute_result"
    }
   ],
   "source": [
    "X"
   ]
  },
  {
   "cell_type": "code",
   "execution_count": 68,
   "metadata": {},
   "outputs": [],
   "source": [
    "from sklearn.model_selection import train_test_split\n",
    "X_train, X_test, y_train, y_test = train_test_split(X, y, test_size=0.2, random_state=42)"
   ]
  },
  {
   "cell_type": "code",
   "execution_count": 69,
   "metadata": {},
   "outputs": [
    {
     "data": {
      "text/plain": [
       "0    99507\n",
       "1       88\n",
       "Name: failure, dtype: int64"
      ]
     },
     "execution_count": 69,
     "metadata": {},
     "output_type": "execute_result"
    }
   ],
   "source": [
    "y_train.value_counts()"
   ]
  },
  {
   "cell_type": "code",
   "execution_count": 70,
   "metadata": {},
   "outputs": [],
   "source": [
    "from imblearn.under_sampling import RandomUnderSampler #from imblearn.over_sampling import RandomOverSampler"
   ]
  },
  {
   "cell_type": "code",
   "execution_count": 71,
   "metadata": {},
   "outputs": [],
   "source": [
    "rus=RandomUnderSampler(random_state=42) #ros = RandomOverSampler() Çok veriyle uğraşmamak için rus kullandım.\n",
    "X_rus,y_rus=rus.fit_sample(X_train,y_train)"
   ]
  },
  {
   "cell_type": "code",
   "execution_count": 72,
   "metadata": {},
   "outputs": [
    {
     "data": {
      "text/plain": [
       "0    99507\n",
       "1       88\n",
       "Name: failure, dtype: int64"
      ]
     },
     "execution_count": 72,
     "metadata": {},
     "output_type": "execute_result"
    }
   ],
   "source": [
    "y_train.value_counts()"
   ]
  },
  {
   "cell_type": "code",
   "execution_count": 73,
   "metadata": {},
   "outputs": [
    {
     "data": {
      "text/plain": [
       "1    88\n",
       "0    88\n",
       "Name: failure, dtype: int64"
      ]
     },
     "execution_count": 73,
     "metadata": {},
     "output_type": "execute_result"
    }
   ],
   "source": [
    "y_rus.value_counts()"
   ]
  },
  {
   "cell_type": "code",
   "execution_count": 74,
   "metadata": {},
   "outputs": [],
   "source": [
    "from sklearn.metrics import classification_report,accuracy_score,confusion_matrix,precision_score,recall_score,f1_score"
   ]
  },
  {
   "cell_type": "code",
   "execution_count": 121,
   "metadata": {},
   "outputs": [
    {
     "name": "stdout",
     "output_type": "stream",
     "text": [
      "Random Forest Classifier\n",
      "Accuracy Score: 0.9992770794007791\n",
      "Precision Score: 0.0\n",
      "Recall Score: 0.0\n",
      "f1 Score: 0.0\n",
      "----------------------------------------------------------\n",
      "Accuracy Score: 0.867544881320535\n",
      "Precision Score: 0.003932244404113733\n",
      "Recall Score: 0.7222222222222222\n",
      "f1 Score: 0.007821901323706377\n"
     ]
    }
   ],
   "source": [
    "from sklearn.ensemble import RandomForestClassifier\n",
    "print(\"Random Forest Classifier\")\n",
    "rf=RandomForestClassifier()\n",
    "model1=rf.fit(X_train,y_train)\n",
    "predict1=model1.predict(X_test)\n",
    "\n",
    "model2=rf.fit(X_rus,y_rus)\n",
    "predict2=model2.predict(X_test)\n",
    "\n",
    "print(\"Accuracy Score:\",accuracy_score(y_test,predict1))\n",
    "print(\"Precision Score:\",precision_score(y_test,predict1))\n",
    "print(\"Recall Score:\",recall_score(y_test,predict1))\n",
    "print(\"f1 Score:\",f1_score(y_test,predict1))\n",
    "print(\"----------------------------------------------------------\")\n",
    "print(\"Accuracy Score:\",accuracy_score(y_test,predict2))\n",
    "print(\"Precision Score:\",precision_score(y_test,predict2))\n",
    "print(\"Recall Score:\",recall_score(y_test,predict2))\n",
    "print(\"f1 Score:\",f1_score(y_test,predict2))\n",
    "\n",
    "#Train verilerindeki yüzdeyüze yakın doğruluk oranı yanıltıyor. Gerçek başarı oranı için-> rus veya ros metodu"
   ]
  },
  {
   "cell_type": "code",
   "execution_count": 44,
   "metadata": {},
   "outputs": [],
   "source": [
    "from sklearn.naive_bayes import MultinomialNB,GaussianNB,BernoulliNB\n",
    "from sklearn.neighbors import KNeighborsClassifier\n",
    "from sklearn.svm import SVC\n",
    "from sklearn.tree import DecisionTreeClassifier\n",
    "from sklearn.linear_model import LogisticRegression\n",
    "from sklearn.ensemble import GradientBoostingClassifier\n",
    "from sklearn.ensemble import RandomForestClassifier\n",
    "from sklearn.ensemble import AdaBoostClassifier"
   ]
  },
  {
   "cell_type": "code",
   "execution_count": 45,
   "metadata": {},
   "outputs": [],
   "source": [
    "def classification_(x,y):\n",
    "    \n",
    "    g=GaussianNB()\n",
    "    b=BernoulliNB()\n",
    "    k=KNeighborsClassifier()\n",
    "    svc=SVC()\n",
    "    d=DecisionTreeClassifier()\n",
    "    log=LogisticRegression()\n",
    "    gbc=GradientBoostingClassifier()\n",
    "    mn=MultinomialNB()\n",
    "    rf=RandomForestClassifier()\n",
    "    ab=AdaBoostClassifier()\n",
    "\n",
    "    x_train,x_test,y_train,y_test=train_test_split(x,y,test_size=.2,random_state=42)\n",
    "    \n",
    "    algos=[g,b,k,svc,d,log,gbc,mn,rf,ab]\n",
    "    algos_name=['Gaussian','Bernoulli','KNeigbors','SVC','DecisionTree','LogisticRegr','GradientBoosting','Multinominal','RandomForest','AdaBoost']\n",
    "    \n",
    "    accuracy = []\n",
    "    precision = []\n",
    "    recall = []\n",
    "    f1 = []\n",
    "   \n",
    "    result=pd.DataFrame(columns=['AccuracyScore','PrecisionScore','RecallScore','f1_Score'],index=algos_name)\n",
    "    \n",
    "    for i in algos:\n",
    "        \n",
    "        rus=RandomUnderSampler(random_state=42)\n",
    "        \n",
    "        x_rus,y_rus=rus.fit_sample(x_train,y_train)\n",
    "        \n",
    "        predict=i.fit(x_rus,y_rus).predict(x_test)\n",
    "        \n",
    "        accuracy.append(accuracy_score(y_test,predict))\n",
    "        precision.append(precision_score(y_test,predict))\n",
    "        recall.append(recall_score(y_test,predict))\n",
    "        f1.append(f1_score(y_test,predict))\n",
    "        \n",
    "    result.AccuracyScore=accuracy\n",
    "    result.PrecisionScore=precision\n",
    "    result.RecallScore=recall\n",
    "    result.f1_Score=f1\n",
    "    \n",
    "    return result.sort_values('AccuracyScore',ascending=False)"
   ]
  },
  {
   "cell_type": "code",
   "execution_count": 46,
   "metadata": {},
   "outputs": [
    {
     "data": {
      "text/html": [
       "<div>\n",
       "<style scoped>\n",
       "    .dataframe tbody tr th:only-of-type {\n",
       "        vertical-align: middle;\n",
       "    }\n",
       "\n",
       "    .dataframe tbody tr th {\n",
       "        vertical-align: top;\n",
       "    }\n",
       "\n",
       "    .dataframe thead th {\n",
       "        text-align: right;\n",
       "    }\n",
       "</style>\n",
       "<table border=\"1\" class=\"dataframe\">\n",
       "  <thead>\n",
       "    <tr style=\"text-align: right;\">\n",
       "      <th></th>\n",
       "      <th>AccuracyScore</th>\n",
       "      <th>PrecisionScore</th>\n",
       "      <th>RecallScore</th>\n",
       "      <th>f1_Score</th>\n",
       "    </tr>\n",
       "  </thead>\n",
       "  <tbody>\n",
       "    <tr>\n",
       "      <th>Gaussian</th>\n",
       "      <td>0.990803</td>\n",
       "      <td>0.018265</td>\n",
       "      <td>0.222222</td>\n",
       "      <td>0.033755</td>\n",
       "    </tr>\n",
       "    <tr>\n",
       "      <th>LogisticRegr</th>\n",
       "      <td>0.900197</td>\n",
       "      <td>0.004419</td>\n",
       "      <td>0.611111</td>\n",
       "      <td>0.008775</td>\n",
       "    </tr>\n",
       "    <tr>\n",
       "      <th>Bernoulli</th>\n",
       "      <td>0.894454</td>\n",
       "      <td>0.004932</td>\n",
       "      <td>0.722222</td>\n",
       "      <td>0.009797</td>\n",
       "    </tr>\n",
       "    <tr>\n",
       "      <th>GradientBoosting</th>\n",
       "      <td>0.858830</td>\n",
       "      <td>0.003972</td>\n",
       "      <td>0.777778</td>\n",
       "      <td>0.007903</td>\n",
       "    </tr>\n",
       "    <tr>\n",
       "      <th>RandomForest</th>\n",
       "      <td>0.845817</td>\n",
       "      <td>0.003379</td>\n",
       "      <td>0.722222</td>\n",
       "      <td>0.006727</td>\n",
       "    </tr>\n",
       "    <tr>\n",
       "      <th>AdaBoost</th>\n",
       "      <td>0.798908</td>\n",
       "      <td>0.002791</td>\n",
       "      <td>0.777778</td>\n",
       "      <td>0.005561</td>\n",
       "    </tr>\n",
       "    <tr>\n",
       "      <th>DecisionTree</th>\n",
       "      <td>0.776417</td>\n",
       "      <td>0.002510</td>\n",
       "      <td>0.777778</td>\n",
       "      <td>0.005004</td>\n",
       "    </tr>\n",
       "    <tr>\n",
       "      <th>SVC</th>\n",
       "      <td>0.630788</td>\n",
       "      <td>0.000544</td>\n",
       "      <td>0.277778</td>\n",
       "      <td>0.001087</td>\n",
       "    </tr>\n",
       "    <tr>\n",
       "      <th>Multinominal</th>\n",
       "      <td>0.551508</td>\n",
       "      <td>0.000806</td>\n",
       "      <td>0.500000</td>\n",
       "      <td>0.001609</td>\n",
       "    </tr>\n",
       "    <tr>\n",
       "      <th>KNeigbors</th>\n",
       "      <td>0.469256</td>\n",
       "      <td>0.000832</td>\n",
       "      <td>0.611111</td>\n",
       "      <td>0.001662</td>\n",
       "    </tr>\n",
       "  </tbody>\n",
       "</table>\n",
       "</div>"
      ],
      "text/plain": [
       "                  AccuracyScore  PrecisionScore  RecallScore  f1_Score\n",
       "Gaussian               0.990803        0.018265     0.222222  0.033755\n",
       "LogisticRegr           0.900197        0.004419     0.611111  0.008775\n",
       "Bernoulli              0.894454        0.004932     0.722222  0.009797\n",
       "GradientBoosting       0.858830        0.003972     0.777778  0.007903\n",
       "RandomForest           0.845817        0.003379     0.722222  0.006727\n",
       "AdaBoost               0.798908        0.002791     0.777778  0.005561\n",
       "DecisionTree           0.776417        0.002510     0.777778  0.005004\n",
       "SVC                    0.630788        0.000544     0.277778  0.001087\n",
       "Multinominal           0.551508        0.000806     0.500000  0.001609\n",
       "KNeigbors              0.469256        0.000832     0.611111  0.001662"
      ]
     },
     "execution_count": 46,
     "metadata": {},
     "output_type": "execute_result"
    }
   ],
   "source": [
    "classification_(X,y)"
   ]
  },
  {
   "cell_type": "code",
   "execution_count": 114,
   "metadata": {
    "scrolled": true
   },
   "outputs": [
    {
     "name": "stdout",
     "output_type": "stream",
     "text": [
      "Epoch 1/40\n",
      "2/2 [==============================] - 1s 818ms/step - loss: 7677966.6667 - accuracy: 0.0909 - val_loss: 10982942.0000 - val_accuracy: 7.2292e-04\n",
      "Epoch 2/40\n",
      "2/2 [==============================] - 1s 748ms/step - loss: 4824062.0000 - accuracy: 0.5000 - val_loss: 247.2498 - val_accuracy: 0.9985\n",
      "Epoch 3/40\n",
      "2/2 [==============================] - 1s 717ms/step - loss: 1377610.5417 - accuracy: 0.4860 - val_loss: 1523.9822 - val_accuracy: 0.9993\n",
      "Epoch 4/40\n",
      "2/2 [==============================] - 1s 770ms/step - loss: 1374230.5000 - accuracy: 0.4744 - val_loss: 1718938.5000 - val_accuracy: 7.2292e-04\n",
      "Epoch 5/40\n",
      "2/2 [==============================] - 1s 717ms/step - loss: 1085267.5833 - accuracy: 0.5040 - val_loss: 120.4671 - val_accuracy: 0.9988\n",
      "Epoch 6/40\n",
      "2/2 [==============================] - 1s 724ms/step - loss: 636378.4583 - accuracy: 0.4361 - val_loss: 944.9921 - val_accuracy: 0.9993\n",
      "Epoch 7/40\n",
      "2/2 [==============================] - 1s 701ms/step - loss: 681152.5833 - accuracy: 0.4924 - val_loss: 243917.9531 - val_accuracy: 8.4341e-04\n",
      "Epoch 8/40\n",
      "2/2 [==============================] - 1s 748ms/step - loss: 460322.8438 - accuracy: 0.5114 - val_loss: 469913.0625 - val_accuracy: 7.2292e-04\n",
      "Epoch 9/40\n",
      "2/2 [==============================] - 1s 802ms/step - loss: 439643.5938 - accuracy: 0.5282 - val_loss: 361.1081 - val_accuracy: 0.9993\n",
      "Epoch 10/40\n",
      "2/2 [==============================] - 1s 670ms/step - loss: 383746.4167 - accuracy: 0.5125 - val_loss: 592.1351 - val_accuracy: 0.9993\n",
      "Epoch 11/40\n",
      "2/2 [==============================] - 1s 702ms/step - loss: 510252.3125 - accuracy: 0.4605 - val_loss: 126.6764 - val_accuracy: 0.9992\n",
      "Epoch 12/40\n",
      "2/2 [==============================] - 1s 724ms/step - loss: 254186.5104 - accuracy: 0.4896 - val_loss: 260993.9844 - val_accuracy: 0.0011\n",
      "Epoch 13/40\n",
      "2/2 [==============================] - 1s 802ms/step - loss: 301821.6146 - accuracy: 0.4832 - val_loss: 47.6091 - val_accuracy: 0.9990\n",
      "Epoch 14/40\n",
      "2/2 [==============================] - 1s 648ms/step - loss: 261801.3646 - accuracy: 0.4119 - val_loss: 356.8274 - val_accuracy: 0.9993\n",
      "Epoch 15/40\n",
      "2/2 [==============================] - 1s 670ms/step - loss: 239719.9479 - accuracy: 0.4785 - val_loss: 258.0270 - val_accuracy: 0.9993\n",
      "Epoch 16/40\n",
      "2/2 [==============================] - 1s 717ms/step - loss: 184215.2708 - accuracy: 0.5163 - val_loss: 26.7693 - val_accuracy: 0.9983\n",
      "Epoch 17/40\n",
      "2/2 [==============================] - 1s 724ms/step - loss: 207443.4010 - accuracy: 0.4669 - val_loss: 54.3953 - val_accuracy: 0.9982\n",
      "Epoch 18/40\n",
      "2/2 [==============================] - 1s 664ms/step - loss: 127517.3542 - accuracy: 0.5310 - val_loss: 219.2148 - val_accuracy: 0.9987\n",
      "Epoch 19/40\n",
      "2/2 [==============================] - 1s 680ms/step - loss: 189776.9323 - accuracy: 0.4143 - val_loss: 263.8197 - val_accuracy: 0.9988\n",
      "Epoch 20/40\n",
      "2/2 [==============================] - 1s 655ms/step - loss: 174238.2500 - accuracy: 0.4756 - val_loss: 133.8961 - val_accuracy: 0.9984\n",
      "Epoch 21/40\n",
      "2/2 [==============================] - 1s 655ms/step - loss: 112379.9896 - accuracy: 0.5140 - val_loss: 73.8431 - val_accuracy: 0.9984\n",
      "Epoch 22/40\n",
      "2/2 [==============================] - 1s 702ms/step - loss: 139262.1250 - accuracy: 0.4884 - val_loss: 138.9832 - val_accuracy: 0.9988\n",
      "Epoch 23/40\n",
      "2/2 [==============================] - 1s 764ms/step - loss: 90628.5885 - accuracy: 0.4477 - val_loss: 173.5090 - val_accuracy: 0.9993\n",
      "Epoch 24/40\n",
      "2/2 [==============================] - 1s 755ms/step - loss: 80566.6979 - accuracy: 0.5523 - val_loss: 145.1232 - val_accuracy: 0.9993\n",
      "Epoch 25/40\n",
      "2/2 [==============================] - 1s 717ms/step - loss: 95358.3620 - accuracy: 0.4962 - val_loss: 56.9105 - val_accuracy: 0.9989\n",
      "Epoch 26/40\n",
      "2/2 [==============================] - 1s 676ms/step - loss: 78467.8568 - accuracy: 0.5062 - val_loss: 22.5292 - val_accuracy: 0.9982\n",
      "Epoch 27/40\n",
      "2/2 [==============================] - 1s 700ms/step - loss: 93451.4271 - accuracy: 0.4311 - val_loss: 2.5370 - val_accuracy: 0.9978\n",
      "Epoch 28/40\n",
      "2/2 [==============================] - 1s 686ms/step - loss: 62831.6680 - accuracy: 0.5639 - val_loss: 22.5963 - val_accuracy: 0.9979\n",
      "Epoch 29/40\n",
      "2/2 [==============================] - 1s 733ms/step - loss: 67043.2266 - accuracy: 0.4399 - val_loss: 22.0008 - val_accuracy: 0.9978\n",
      "Epoch 30/40\n",
      "2/2 [==============================] - 1s 655ms/step - loss: 59063.3724 - accuracy: 0.4910 - val_loss: 34079.7812 - val_accuracy: 0.0014\n",
      "Epoch 31/40\n",
      "2/2 [==============================] - 1s 764ms/step - loss: 59279.4089 - accuracy: 0.5308 - val_loss: 8.4729 - val_accuracy: 0.9973\n",
      "Epoch 32/40\n",
      "2/2 [==============================] - 1s 633ms/step - loss: 55765.0938 - accuracy: 0.4744 - val_loss: 53.4717 - val_accuracy: 0.9985\n",
      "Epoch 33/40\n",
      "2/2 [==============================] - 1s 670ms/step - loss: 56401.2500 - accuracy: 0.4666 - val_loss: 25.3496 - val_accuracy: 0.9982\n",
      "Epoch 34/40\n",
      "2/2 [==============================] - 1s 686ms/step - loss: 40474.2969 - accuracy: 0.4867 - val_loss: 50970.5000 - val_accuracy: 0.0058\n",
      "Epoch 35/40\n",
      "2/2 [==============================] - 1s 690ms/step - loss: 51301.3672 - accuracy: 0.4744 - val_loss: 10997.0088 - val_accuracy: 0.0399\n",
      "Epoch 36/40\n",
      "2/2 [==============================] - 1s 780ms/step - loss: 30199.7526 - accuracy: 0.5485 - val_loss: 8.4672 - val_accuracy: 0.9945\n",
      "Epoch 37/40\n",
      "2/2 [==============================] - 1s 717ms/step - loss: 34551.1641 - accuracy: 0.4936 - val_loss: 11898.6172 - val_accuracy: 0.0060\n",
      "Epoch 38/40\n",
      "2/2 [==============================] - 1s 701ms/step - loss: 27238.4323 - accuracy: 0.5026 - val_loss: 14236.2559 - val_accuracy: 0.0016\n",
      "Epoch 39/40\n",
      "2/2 [==============================] - 1s 717ms/step - loss: 28416.4661 - accuracy: 0.5192 - val_loss: 14.6597 - val_accuracy: 0.9962\n",
      "Epoch 40/40\n",
      "2/2 [==============================] - 1s 771ms/step - loss: 32894.6979 - accuracy: 0.4910 - val_loss: 21.5389 - val_accuracy: 0.9973\n"
     ]
    }
   ],
   "source": [
    "import tensorflow as tf\n",
    "model = tf.keras.Sequential([\n",
    "                             tf.keras.layers.Dense(512, activation='relu'),\n",
    "                             tf.keras.layers.Dense(512, activation='relu'),\n",
    "                             tf.keras.layers.Dropout(0.25),\n",
    "                             tf.keras.layers.Flatten(),\n",
    "                             tf.keras.layers.Dense(512, activation='relu'),\n",
    "                             tf.keras.layers.Dropout(0.50),\n",
    "                             tf.keras.layers.Dense(512, activation='relu'),\n",
    "                             tf.keras.layers.Dense(512, activation='softmax'),])\n",
    "\n",
    "model.compile(optimizer='adam', loss='sparse_categorical_crossentropy', metrics=['accuracy'])\n",
    "history = model.fit(X_rus,y_rus, batch_size=128, epochs=40, verbose=1, validation_data=(X_test,y_test))"
   ]
  },
  {
   "cell_type": "code",
   "execution_count": 117,
   "metadata": {},
   "outputs": [
    {
     "name": "stdout",
     "output_type": "stream",
     "text": [
      "779/779 [==============================] - 1s 2ms/step - loss: 21.5389 - accuracy: 0.9973\n",
      "Accuracy: 99.73\n"
     ]
    }
   ],
   "source": [
    "_, accuracy=model.evaluate(X_test, y_test)\n",
    "print('Accuracy: %.2f' % (accuracy*100))"
   ]
  },
  {
   "cell_type": "code",
   "execution_count": 75,
   "metadata": {},
   "outputs": [
    {
     "data": {
      "text/plain": [
       "Index(['attribute1', 'attribute2', 'attribute3', 'attribute4', 'attribute5',\n",
       "       'attribute6', 'attribute7', 'attribute9', 'month', 'day', 'device_S1F1',\n",
       "       'device_W1F0', 'device_W1F1', 'device_Z1F0', 'device_Z1F1',\n",
       "       'device_Z1F2'],\n",
       "      dtype='object')"
      ]
     },
     "execution_count": 75,
     "metadata": {},
     "output_type": "execute_result"
    }
   ],
   "source": [
    "X.columns"
   ]
  },
  {
   "cell_type": "code",
   "execution_count": 26,
   "metadata": {},
   "outputs": [
    {
     "data": {
      "text/plain": [
       "16"
      ]
     },
     "execution_count": 26,
     "metadata": {},
     "output_type": "execute_result"
    }
   ],
   "source": [
    "len(X.columns)"
   ]
  },
  {
   "cell_type": "code",
   "execution_count": 27,
   "metadata": {},
   "outputs": [],
   "source": [
    "n_inputs=16"
   ]
  },
  {
   "cell_type": "code",
   "execution_count": 28,
   "metadata": {},
   "outputs": [],
   "source": [
    "import tensorflow\n",
    "from tensorflow.keras.layers import Dense\n",
    "from tensorflow.keras.models import Sequential"
   ]
  },
  {
   "cell_type": "code",
   "execution_count": 29,
   "metadata": {},
   "outputs": [
    {
     "name": "stdout",
     "output_type": "stream",
     "text": [
      "Epoch 1/10\n",
      "3113/3113 [==============================] - 2s 446us/step - loss: 9197.3033\n",
      "Epoch 2/10\n",
      "3113/3113 [==============================] - 1s 429us/step - loss: 11770.6348\n",
      "Epoch 3/10\n",
      "3113/3113 [==============================] - 1s 404us/step - loss: 10816.5442\n",
      "Epoch 4/10\n",
      "3113/3113 [==============================] - 1s 417us/step - loss: 11328.8939\n",
      "Epoch 5/10\n",
      "3113/3113 [==============================] - 1s 436us/step - loss: 8730.6481\n",
      "Epoch 6/10\n",
      "3113/3113 [==============================] - 1s 429us/step - loss: 11096.7874\n",
      "Epoch 7/10\n",
      "3113/3113 [==============================] - 1s 421us/step - loss: 8447.4076\n",
      "Epoch 8/10\n",
      "3113/3113 [==============================] - 1s 420us/step - loss: 9090.9647\n",
      "Epoch 9/10\n",
      "3113/3113 [==============================] - 1s 428us/step - loss: 8505.1253\n",
      "Epoch 10/10\n",
      "3113/3113 [==============================] - 1s 414us/step - loss: 9049.2232\n"
     ]
    },
    {
     "data": {
      "text/plain": [
       "<tensorflow.python.keras.callbacks.History at 0x241af70e490>"
      ]
     },
     "execution_count": 29,
     "metadata": {},
     "output_type": "execute_result"
    }
   ],
   "source": [
    "model = Sequential()\n",
    "model.add(Dense(50, input_dim=n_inputs, activation='relu', kernel_initializer='he_uniform'))\n",
    "model.add(Dense(1, activation='sigmoid'))\n",
    "model.compile(loss='binary_crossentropy', optimizer='adam')\n",
    "model.fit(X_train,y_train,epochs=10)"
   ]
  },
  {
   "cell_type": "code",
   "execution_count": 30,
   "metadata": {},
   "outputs": [
    {
     "name": "stdout",
     "output_type": "stream",
     "text": [
      "0.5\n"
     ]
    }
   ],
   "source": [
    "from sklearn.metrics import roc_auc_score\n",
    "y_pred1=model.predict(X_test)\n",
    "\n",
    "print(roc_auc_score(y_test,y_pred1))"
   ]
  },
  {
   "cell_type": "code",
   "execution_count": 119,
   "metadata": {},
   "outputs": [
    {
     "name": "stdout",
     "output_type": "stream",
     "text": [
      "Epoch 1/10\n",
      "6/6 [==============================] - 0s 0s/step - loss: 9879124.5714\n",
      "Epoch 2/10\n",
      "6/6 [==============================] - 0s 2ms/step - loss: 5292503.0714\n",
      "Epoch 3/10\n",
      "6/6 [==============================] - 0s 0s/step - loss: 2217132.8214\n",
      "Epoch 4/10\n",
      "6/6 [==============================] - 0s 3ms/step - loss: 748207.2701\n",
      "Epoch 5/10\n",
      "6/6 [==============================] - 0s 0s/step - loss: 1398017.9464\n",
      "Epoch 6/10\n",
      "6/6 [==============================] - 0s 0s/step - loss: 491151.4955\n",
      "Epoch 7/10\n",
      "6/6 [==============================] - 0s 0s/step - loss: 718554.7232\n",
      "Epoch 8/10\n",
      "6/6 [==============================] - 0s 0s/step - loss: 236928.1553\n",
      "Epoch 9/10\n",
      "6/6 [==============================] - 0s 3ms/step - loss: 302450.9844\n",
      "Epoch 10/10\n",
      "6/6 [==============================] - 0s 0s/step - loss: 217049.0714\n"
     ]
    },
    {
     "data": {
      "text/plain": [
       "<tensorflow.python.keras.callbacks.History at 0x241ba7c3790>"
      ]
     },
     "execution_count": 119,
     "metadata": {},
     "output_type": "execute_result"
    }
   ],
   "source": [
    "model = Sequential()\n",
    "model.add(Dense(50, input_dim=n_inputs, activation='relu', kernel_initializer='he_uniform'))\n",
    "model.add(Dense(1, activation='sigmoid'))\n",
    "model.compile(loss='binary_crossentropy', optimizer='adam')\n",
    "model.fit(X_rus,y_rus,epochs=10)"
   ]
  },
  {
   "cell_type": "code",
   "execution_count": 120,
   "metadata": {},
   "outputs": [
    {
     "name": "stdout",
     "output_type": "stream",
     "text": [
      "0.5003416261404284\n"
     ]
    }
   ],
   "source": [
    "from sklearn.metrics import roc_auc_score\n",
    "y_pred1=model.predict(X_test)\n",
    "\n",
    "print(roc_auc_score(y_test,y_pred1))"
   ]
  },
  {
   "cell_type": "markdown",
   "metadata": {},
   "source": [
    "### Weighted Neural Network With Keras"
   ]
  },
  {
   "cell_type": "code",
   "execution_count": 105,
   "metadata": {},
   "outputs": [],
   "source": [
    "weights_assigned={0:1,1:600}"
   ]
  },
  {
   "cell_type": "code",
   "execution_count": 109,
   "metadata": {},
   "outputs": [
    {
     "name": "stdout",
     "output_type": "stream",
     "text": [
      "Epoch 1/10\n",
      "3113/3113 [==============================] - 2s 501us/step - loss: 24750239.7155\n",
      "Epoch 2/10\n",
      "3113/3113 [==============================] - 2s 500us/step - loss: 1671660.0637\n",
      "Epoch 3/10\n",
      "3113/3113 [==============================] - 2s 488us/step - loss: 1822697.3721\n",
      "Epoch 4/10\n",
      "3113/3113 [==============================] - 1s 466us/step - loss: 1564064.4711\n",
      "Epoch 5/10\n",
      "3113/3113 [==============================] - 1s 473us/step - loss: 1781789.8636\n",
      "Epoch 6/10\n",
      "3113/3113 [==============================] - 1s 456us/step - loss: 1742262.4057\n",
      "Epoch 7/10\n",
      "3113/3113 [==============================] - 1s 466us/step - loss: 1480889.5476\n",
      "Epoch 8/10\n",
      "3113/3113 [==============================] - 1s 463us/step - loss: 1605789.5043\n",
      "Epoch 9/10\n",
      "3113/3113 [==============================] - 1s 466us/step - loss: 1860947.4962\n",
      "Epoch 10/10\n",
      "3113/3113 [==============================] - 1s 472us/step - loss: 1364720.3428\n"
     ]
    },
    {
     "data": {
      "text/plain": [
       "<tensorflow.python.keras.callbacks.History at 0x241bcafb250>"
      ]
     },
     "execution_count": 109,
     "metadata": {},
     "output_type": "execute_result"
    }
   ],
   "source": [
    "model = Sequential()\n",
    "model.add(Dense(50, input_dim=n_inputs, activation='relu', kernel_initializer='he_uniform'))\n",
    "model.add(Dense(1, activation='sigmoid'))\n",
    "model.compile(loss='binary_crossentropy', optimizer='adam')\n",
    "model.fit(X_train,y_train,class_weight=weights_assigned,epochs=10)"
   ]
  },
  {
   "cell_type": "code",
   "execution_count": 110,
   "metadata": {},
   "outputs": [],
   "source": [
    "y_pred=model.predict(X_test)"
   ]
  },
  {
   "cell_type": "code",
   "execution_count": 111,
   "metadata": {},
   "outputs": [
    {
     "data": {
      "text/plain": [
       "0.515574132872473"
      ]
     },
     "execution_count": 111,
     "metadata": {},
     "output_type": "execute_result"
    }
   ],
   "source": [
    "from sklearn.metrics import roc_auc_score\n",
    "roc_auc_score(y_test,y_pred)"
   ]
  },
  {
   "cell_type": "code",
   "execution_count": null,
   "metadata": {},
   "outputs": [],
   "source": []
  },
  {
   "cell_type": "code",
   "execution_count": null,
   "metadata": {},
   "outputs": [],
   "source": []
  }
 ],
 "metadata": {
  "kernelspec": {
   "display_name": "Python 3",
   "language": "python",
   "name": "python3"
  },
  "language_info": {
   "codemirror_mode": {
    "name": "ipython",
    "version": 3
   },
   "file_extension": ".py",
   "mimetype": "text/x-python",
   "name": "python",
   "nbconvert_exporter": "python",
   "pygments_lexer": "ipython3",
   "version": "3.8.5"
  }
 },
 "nbformat": 4,
 "nbformat_minor": 4
}
